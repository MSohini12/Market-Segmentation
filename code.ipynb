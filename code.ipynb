http://localhost:8888/notebooks/Market%20Segmentation.ipynb
